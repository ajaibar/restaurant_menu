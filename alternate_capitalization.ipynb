{
 "cells": [
  {
   "cell_type": "code",
   "execution_count": 50,
   "metadata": {},
   "outputs": [],
   "source": [
    "def alternate_capitalization(st):\n",
    "    result=[]\n",
    "    list1=''\n",
    "    list2=''\n",
    "    for char in range(len(st)):\n",
    "        if char % 2 == 0:\n",
    "            list1=list1 + (st[char].upper())\n",
    "            list2= list2+ (st[char].lower())\n",
    "        else:\n",
    "            list2= list2 + (st[char].upper())\n",
    "            list1= list1 + (st[char].lower())\n",
    "    result.append (list1)\n",
    "    result.append (list2)\n",
    "    return result        "
   ]
  },
  {
   "cell_type": "code",
   "execution_count": 51,
   "metadata": {},
   "outputs": [
    {
     "data": {
      "text/plain": [
       "['MoNtEcArLoS', 'mOnTeCaRlOs']"
      ]
     },
     "execution_count": 51,
     "metadata": {},
     "output_type": "execute_result"
    }
   ],
   "source": [
    "alternate_capitalization('montecarlos')"
   ]
  },
  {
   "cell_type": "code",
   "execution_count": null,
   "metadata": {},
   "outputs": [],
   "source": []
  }
 ],
 "metadata": {
  "kernelspec": {
   "display_name": "Python 3",
   "language": "python",
   "name": "python3"
  },
  "language_info": {
   "codemirror_mode": {
    "name": "ipython",
    "version": 3
   },
   "file_extension": ".py",
   "mimetype": "text/x-python",
   "name": "python",
   "nbconvert_exporter": "python",
   "pygments_lexer": "ipython3",
   "version": "3.7.3"
  }
 },
 "nbformat": 4,
 "nbformat_minor": 2
}
